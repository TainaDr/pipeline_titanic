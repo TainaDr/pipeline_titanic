{
  "cells": [
    {
      "cell_type": "markdown",
      "metadata": {
        "id": "view-in-github",
        "colab_type": "text"
      },
      "source": [
        "<a href=\"https://colab.research.google.com/github/TainaDr/pipeline_titanic/blob/main/etl_carga.ipynb\" target=\"_parent\"><img src=\"https://colab.research.google.com/assets/colab-badge.svg\" alt=\"Open In Colab\"/></a>"
      ]
    },
    {
      "cell_type": "markdown",
      "metadata": {
        "id": "ZjBwGuksJleP"
      },
      "source": [
        "# Pipeline ETL com Titanic - Aula 04\n",
        "## Trabalhando com Bancos de Dados\n",
        "\n",
        "### Objetivos da Aula:\n",
        "- Aprender o que é ETL (Extração, Transformação e Carga)\n",
        "- Trabalhar com dados do Titanic\n",
        "- Carregar dados em diferentes bancos de dados\n",
        "- Comparar SQLite, MySQL e PostgreSQL\n",
        "\n",
        "### O que vamos fazer:\n",
        "1. Extrair dados da titanic\n",
        "2. Limpar e organizar os dados\n",
        "3. Salvar em bancos de dados\n",
        "4. Fazer consultas simples\n"
      ]
    },
    {
      "cell_type": "markdown",
      "metadata": {
        "id": "qh1XG1ZtJleX"
      },
      "source": [
        "## Atividade 1: Instalação das Bibliotecas\n",
        "\n",
        "Primeiro, vamos instalar as bibliotecas que vamos usar:\n"
      ]
    },
    {
      "cell_type": "code",
      "execution_count": null,
      "metadata": {
        "id": "G4zYN7yxJlea"
      },
      "outputs": [],
      "source": [
        "# Instalação das bibliotecas\n",
        "%pip install pandas sqlalchemy pymysql psycopg2-binary\n"
      ]
    },
    {
      "cell_type": "markdown",
      "metadata": {
        "id": "8p2CDR58Jlee"
      },
      "source": [
        "## Atividade 2: Importar as Bibliotecas\n",
        "\n",
        "Agora vamos importar as bibliotecas que vamos usar no projeto:\n"
      ]
    },
    {
      "cell_type": "code",
      "execution_count": null,
      "metadata": {
        "id": "bbHHtSmyJlef"
      },
      "outputs": [],
      "source": [
        "import pandas as pd\n",
        "import sqlite3\n",
        "from datetime import datetime\n",
        "\n",
        "print(\"Bibliotecas importadas com sucesso!\")\n"
      ]
    },
    {
      "cell_type": "markdown",
      "metadata": {
        "id": "Lmlxub9AJleg"
      },
      "source": [
        "## Atividade 3: EXTRAÇÃO - Baixar os Dados\n",
        "\n",
        "Vamos baixar os dados do Titanic da internet:\n"
      ]
    },
    {
      "cell_type": "code",
      "execution_count": null,
      "metadata": {
        "id": "stTWlxBZJlei"
      },
      "outputs": [],
      "source": [
        "# URL dos dados do Titanic\n",
        "url = 'https://raw.githubusercontent.com/datasciencedojo/datasets/master/titanic.csv'\n",
        "\n",
        "# Carregar os dados\n",
        "\n",
        "\n",
        "# Mostrar as primeiras linhas\n",
        "\n"
      ]
    },
    {
      "cell_type": "markdown",
      "metadata": {
        "id": "6C3TvBqNJlek"
      },
      "source": [
        "## Atividade 4: Conhecendo os Dados\n",
        "\n",
        "Vamos entender melhor os dados que temos:\n"
      ]
    },
    {
      "cell_type": "code",
      "execution_count": null,
      "metadata": {
        "id": "7RSjm8bLJlen"
      },
      "outputs": [],
      "source": [
        "# Informações básicas sobre os dados - utilize info() e describe()\n",
        "\n"
      ]
    },
    {
      "cell_type": "markdown",
      "metadata": {
        "id": "vJfdQkyRJleq"
      },
      "source": [
        "## Atividade 5: Verificar Dados Faltantes\n",
        "\n",
        "Vamos ver quais dados estão faltando:\n"
      ]
    },
    {
      "cell_type": "code",
      "execution_count": null,
      "metadata": {
        "id": "7N3pYziCJler"
      },
      "outputs": [],
      "source": [
        "# Verificar dados faltantes\n",
        "\n",
        "\n",
        "# Calcular percentual relativo\n",
        "\n"
      ]
    },
    {
      "cell_type": "markdown",
      "metadata": {
        "id": "sctGu_izJles"
      },
      "source": [
        "## Atividade 6: TRANSFORMAÇÃO - Limpeza dos Dados\n",
        "\n",
        "Agora vamos limpar e organizar os dados:\n"
      ]
    },
    {
      "cell_type": "code",
      "execution_count": null,
      "metadata": {
        "id": "8w9mndfWJlet"
      },
      "outputs": [],
      "source": [
        "# Fazer uma cópia dos dados para trabalhar\n",
        "\n",
        "\n",
        "# 1. Preencher idades faltantes com a média\n",
        "\n",
        "\n",
        "# 2. Preencher embarque faltante com o mais comum\n",
        "\n",
        "\n",
        "# 3. Preencher tarifa faltante com a média\n",
        "\n",
        "\n",
        "# 4. Criar coluna para indicar se tem cabine\n",
        "\n"
      ]
    },
    {
      "cell_type": "markdown",
      "metadata": {
        "id": "10Lwt1YJJleu"
      },
      "source": [
        "## Atividade 7: Criar Informações Extras\n",
        "\n",
        "Vamos criar algumas informações extras úteis:\n"
      ]
    },
    {
      "cell_type": "code",
      "execution_count": null,
      "metadata": {
        "id": "F9vFHIP4Jleu"
      },
      "outputs": [],
      "source": [
        "# Criar informações extras\n",
        "\n",
        "# 1. Tamanho da família\n",
        "\n",
        "\n",
        "# 2. Faixa etária\n",
        "\n",
        "\n",
        "# 3. Categoria de tarifa\n",
        "\n",
        "\n",
        "# 4. Adicionar data de processamento\n",
        "\n"
      ]
    },
    {
      "cell_type": "markdown",
      "metadata": {
        "id": "GBfc9sb5Jlev"
      },
      "source": [
        "## Atividade 8: Preparar Dados para o Banco\n",
        "\n",
        "Vamos organizar os dados em tabelas menores:\n"
      ]
    },
    {
      "cell_type": "code",
      "execution_count": null,
      "metadata": {
        "id": "0B12bCFDJlev"
      },
      "outputs": [],
      "source": [
        "# Dividir os dados em tabelas menores\n",
        "\n",
        "# Tabela 1: Informações básicas dos passageiros\n",
        "\n",
        "\n",
        "# Tabela 2: Informações de bilhete\n",
        "\n",
        "\n",
        "# Tabela 3: Informações de família\n",
        "\n",
        "\n",
        "# Tabela 4: Informações de cabine\n",
        "\n",
        "\n",
        "print(\"Tabelas criadas:\")\n",
        "print(f\"- Passageiros: {len(passageiros)} linhas\")\n",
        "print(f\"- Bilhetes: {len(bilhetes)} linhas\")\n",
        "print(f\"- Família: {len(familia)} linhas\")\n",
        "print(f\"- Cabines: {len(cabines)} linhas\")"
      ]
    },
    {
      "cell_type": "markdown",
      "metadata": {
        "id": "feFxb69ZJlez"
      },
      "source": [
        "## Atividade 9: CARGA - Salvar no SQLite (Banco Simples)\n",
        "\n",
        "Vamos salvar os dados no SQLite, que é um banco de dados simples:\n"
      ]
    },
    {
      "cell_type": "code",
      "execution_count": null,
      "metadata": {
        "id": "AsvF5xnhJlez"
      },
      "outputs": [],
      "source": [
        "# Salvar no SQLite\n",
        "print(\"Salvando dados no SQLite...\")\n",
        "\n",
        "# Conectar ao banco (será criado automaticamente)\n",
        "\n",
        "\n",
        "# Salvar cada tabela\n",
        "\n",
        "\n",
        "# Verificar se funcionou\n",
        "\n"
      ]
    },
    {
      "cell_type": "markdown",
      "metadata": {
        "id": "htk5ujqOJle0"
      },
      "source": [
        "## Atividade 10: Fazer Consultas no SQLite\n",
        "\n",
        "Vamos fazer algumas consultas simples no banco:\n"
      ]
    },
    {
      "cell_type": "code",
      "execution_count": null,
      "metadata": {
        "id": "iwEcxcTlJle0"
      },
      "outputs": [],
      "source": [
        "# Fazer consultas no SQLite\n",
        "\n",
        "# Consulta 1: Quantos sobreviveram?\n",
        "\n",
        "\n",
        "# Consulta 2: Sobrevivência por sexo\n",
        "\n",
        "\n",
        "# Consulta 3: Média de idade por classe\n",
        "\n"
      ]
    },
    {
      "cell_type": "markdown",
      "metadata": {
        "id": "9JJvdxDcJle1"
      },
      "source": [
        "## Atividade 11: Configurar MySQL (Opcional)\n",
        "\n",
        "Se você tiver o MySQL instalado, pode configurar aqui. Caso contrário, pule para a próxima atividade:\n"
      ]
    },
    {
      "cell_type": "code",
      "execution_count": null,
      "metadata": {
        "id": "ANcG47I1Jle1"
      },
      "outputs": [],
      "source": [
        "# Configuração do MySQL (OPCIONAL)\n",
        "# Só execute se tiver MySQL instalado e configurado\n",
        "\n",
        "# ALTERE ESTAS CONFIGURAÇÕES:\n",
        "mysql_config = {\n",
        "    'host': 'localhost',\n",
        "    'user': 'root',\n",
        "    'password': 'SUA_SENHA_AQUI',  # Coloque sua senha\n",
        "    'database': 'titanic'\n",
        "}\n",
        "\n",
        "print(\"Configuração do MySQL definida\")\n",
        "print(\"ATENÇÃO: Altere a senha acima antes de usar!\")\n",
        "print(\"Se não tiver MySQL, pode pular esta parte\")\n"
      ]
    },
    {
      "cell_type": "markdown",
      "metadata": {
        "id": "dV6KpDklJle2"
      },
      "source": [
        "## Atividade 12: Salvar no MySQL (Opcional)\n",
        "\n",
        "Execute apenas se configurou o MySQL na atividade anterior:\n"
      ]
    },
    {
      "cell_type": "code",
      "execution_count": null,
      "metadata": {
        "id": "u2Ohrm0JJle3"
      },
      "outputs": [],
      "source": [
        "# Salvar no MySQL (OPCIONAL)\n",
        "# Descomente as linhas abaixo se quiser usar MySQL\n",
        "\n",
        "\"\"\"\n",
        "from sqlalchemy import create_engine\n",
        "\n",
        "# Criar conexão\n",
        "engine = create_engine(f\"mysql+pymysql://{mysql_config['user']}:{mysql_config['password']}@{mysql_config['host']}\")\n",
        "\n",
        "# Criar banco de dados\n",
        "with engine.connect() as conn:\n",
        "    conn.execute(f\"CREATE DATABASE IF NOT EXISTS {mysql_config['database']}\")\n",
        "\n",
        "# Conectar ao banco específico\n",
        "engine = create_engine(f\"mysql+pymysql://{mysql_config['user']}:{mysql_config['password']}@{mysql_config['host']}/{mysql_config['database']}\")\n",
        "\n",
        "# Salvar dados\n",
        "passageiros.to_sql('passageiros', engine, if_exists='replace', index=False)\n",
        "bilhetes.to_sql('bilhetes', engine, if_exists='replace', index=False)\n",
        "familia.to_sql('familia', engine, if_exists='replace', index=False)\n",
        "cabines.to_sql('cabines', engine, if_exists='replace', index=False)\n",
        "\n",
        "print(\"Dados salvos no MySQL!\")\n",
        "\"\"\"\n",
        "\n",
        "print(\"Código do MySQL está comentado\")\n",
        "print(\"Descomente se quiser usar o MySQL\")\n"
      ]
    },
    {
      "cell_type": "markdown",
      "metadata": {
        "id": "mzYyTPnGJle4"
      },
      "source": [
        "## Atividade 13: Comparar os Bancos de Dados\n",
        "\n",
        "Vamos entender as diferenças entre os bancos:\n"
      ]
    },
    {
      "cell_type": "code",
      "execution_count": null,
      "metadata": {
        "id": "Rk8TmQoUJle4"
      },
      "outputs": [],
      "source": [
        "# Comparação entre bancos de dados\n",
        "print(\"=== COMPARAÇÃO DE BANCOS DE DADOS ===\\n\")\n",
        "\n",
        "bancos = {\n",
        "    'Característica': ['Tipo', 'Instalação', 'Uso', 'Complexidade', 'Melhor para'],\n",
        "    'SQLite': ['Arquivo local', 'Não precisa', 'Simples', 'Baixa', 'Aprender/Testar'],\n",
        "    'MySQL': ['Servidor', 'Precisa instalar', 'Web/Internet', 'Média', 'Sites/Aplicativos'],\n",
        "    'PostgreSQL': ['Servidor', 'Precisa instalar', 'Empresas', 'Alta', 'Sistemas grandes']\n",
        "}\n",
        "\n",
        "comparacao = pd.DataFrame(bancos)\n",
        "print(comparacao.to_string(index=False))\n",
        "\n",
        "print(\"\\n=== RESUMO ===\")\n",
        "print(\"- SQLite: Mais fácil para começar\")\n",
        "print(\"- MySQL: Muito usado em sites\")\n",
        "print(\"- PostgreSQL: Mais recursos avançados\")\n",
        "print(\"\\nTodos fazem a mesma coisa básica: guardar dados!\")\n"
      ]
    }
  ],
  "metadata": {
    "language_info": {
      "name": "python"
    },
    "colab": {
      "provenance": [],
      "include_colab_link": true
    }
  },
  "nbformat": 4,
  "nbformat_minor": 0
}