{
  "cells": [
    {
      "cell_type": "markdown",
      "metadata": {
        "id": "view-in-github",
        "colab_type": "text"
      },
      "source": [
        "<a href=\"https://colab.research.google.com/github/TainaDr/pipeline_titanic/blob/main/transferencia_dados.ipynb\" target=\"_parent\"><img src=\"https://colab.research.google.com/assets/colab-badge.svg\" alt=\"Open In Colab\"/></a>"
      ]
    },
    {
      "cell_type": "markdown",
      "id": "_p7x6JA3HN4q",
      "metadata": {
        "id": "_p7x6JA3HN4q"
      },
      "source": [
        "## 1. Realize a extração dos dados do Titanic\n",
        "\n"
      ]
    },
    {
      "cell_type": "code",
      "execution_count": null,
      "id": "rKi8PDBoHN4s",
      "metadata": {
        "id": "rKi8PDBoHN4s"
      },
      "outputs": [],
      "source": [
        "import pandas as pd\n",
        "import numpy as np\n",
        "\n",
        "url = \"https://raw.githubusercontent.com/TainaDr/pipeline_titanic/main/titanic.csv\"\n",
        "dataFrame = pd.read_csv(url)"
      ]
    },
    {
      "cell_type": "markdown",
      "id": "b-XD_l5FHN4t",
      "metadata": {
        "id": "b-XD_l5FHN4t"
      },
      "source": [
        "## 2. Exibição das informações do conjunto de dados"
      ]
    },
    {
      "cell_type": "code",
      "execution_count": null,
      "id": "UW9UF6nDHN4t",
      "metadata": {
        "id": "UW9UF6nDHN4t"
      },
      "outputs": [],
      "source": [
        "print(dataFrame.info())"
      ]
    },
    {
      "cell_type": "markdown",
      "id": "CiA_z_a6HN4t",
      "metadata": {
        "id": "CiA_z_a6HN4t"
      },
      "source": [
        "## 3. Exibição das estatísticas descritivas"
      ]
    },
    {
      "cell_type": "code",
      "execution_count": null,
      "id": "aGm7lHglHN4t",
      "metadata": {
        "id": "aGm7lHglHN4t"
      },
      "outputs": [],
      "source": [
        "print(dataFrame.describe())"
      ]
    },
    {
      "cell_type": "markdown",
      "id": "M0khhkzUHN4u",
      "metadata": {
        "id": "M0khhkzUHN4u"
      },
      "source": [
        "## 4. Demonstração dos valores ausentes por coluna"
      ]
    },
    {
      "cell_type": "code",
      "execution_count": null,
      "id": "jUMTjkt9HN4u",
      "metadata": {
        "id": "jUMTjkt9HN4u"
      },
      "outputs": [],
      "source": [
        "dataFrame.columns = dataFrame.columns.str.strip()\n",
        "print(dataFrame.isnull().sum())"
      ]
    },
    {
      "cell_type": "markdown",
      "id": "nQFsx2NrHN4u",
      "metadata": {
        "id": "nQFsx2NrHN4u"
      },
      "source": [
        "## 5. Age: Preenchimento das idades faltantes utilizando a mediana por classe e sexo"
      ]
    },
    {
      "cell_type": "code",
      "execution_count": null,
      "id": "9aZ8yR5vHN4u",
      "metadata": {
        "id": "9aZ8yR5vHN4u"
      },
      "outputs": [],
      "source": [
        "def preencher_idade(row):\n",
        "    if pd.isna(row['Age']):\n",
        "        mediana = dataFrame.groupby(['Pclass', 'Sex'])['Age'].median()\n",
        "        return mediana.loc[row['Pclass'], row['Sex']]\n",
        "    else:\n",
        "        return row['Age']\n",
        "\n",
        "dataFrame['Age'] = dataFrame.apply(preencher_idade, axis=1)"
      ]
    },
    {
      "cell_type": "markdown",
      "id": "BHJ5ne7tHN4u",
      "metadata": {
        "id": "BHJ5ne7tHN4u"
      },
      "source": [
        "## 6. Age: Preenchimento dos valores ausentes restantes com a mediana geral"
      ]
    },
    {
      "cell_type": "code",
      "execution_count": null,
      "id": "COkGIZ-NHN4v",
      "metadata": {
        "id": "COkGIZ-NHN4v"
      },
      "outputs": [],
      "source": [
        "medianaGeral = dataFrame['Age'].median()\n",
        "dataFrame['Age'].fillna(mediana)"
      ]
    },
    {
      "cell_type": "markdown",
      "id": "bkHQns-pHN4v",
      "metadata": {
        "id": "bkHQns-pHN4v"
      },
      "source": [
        "## 7. Embarked: Preenchimento dos valores ausentes com o valor mais frequente"
      ]
    },
    {
      "cell_type": "code",
      "execution_count": null,
      "id": "vBg_3V5bHN4v",
      "metadata": {
        "id": "vBg_3V5bHN4v"
      },
      "outputs": [],
      "source": [
        "mais_frequente = dataFrame['Embarked'].mode()[0]\n",
        "dataFrame['Embarked'] = dataFrame['Embarked'].fillna(mais_frequente)"
      ]
    },
    {
      "cell_type": "markdown",
      "id": "QCVXeLDIHN4v",
      "metadata": {
        "id": "QCVXeLDIHN4v"
      },
      "source": [
        "## 8. Cabin: Criação de feature indicadora se existe cabine ou não"
      ]
    },
    {
      "cell_type": "code",
      "execution_count": null,
      "id": "mKobjtK3HN4v",
      "metadata": {
        "id": "mKobjtK3HN4v"
      },
      "outputs": [],
      "source": [
        "dataFrame[''] = dataFrame['Cabin'].notna().astype(int)\n",
        "print(dataFrame[['Cabin', 'HasCabin']])"
      ]
    },
    {
      "cell_type": "markdown",
      "id": "MCNX6u2aHN4w",
      "metadata": {
        "id": "MCNX6u2aHN4w"
      },
      "source": [
        "## 9. Fare: Preenchimento dos valores ausentes com a média, agrupando por classe"
      ]
    },
    {
      "cell_type": "code",
      "execution_count": null,
      "id": "Sd1YAOcPHN4w",
      "metadata": {
        "id": "Sd1YAOcPHN4w"
      },
      "outputs": [],
      "source": [
        "dataFrame['Age'] = dataFrame['Age'].fillna(\n",
        "    dataFrame.groupby('Pclass')['Age'].transform('mean')\n",
        ")\n",
        "\n",
        "print(\"Valores ausentes em Age:\", dataFrame['Age'].isna().sum())\n",
        "\n",
        "print(dataFrame[['Pclass', 'Age']])"
      ]
    },
    {
      "cell_type": "markdown",
      "id": "2B4NP5M8HN4w",
      "metadata": {
        "id": "2B4NP5M8HN4w"
      },
      "source": [
        "## 10. Age: Criação de feature indicativa para grupos de idade"
      ]
    },
    {
      "cell_type": "code",
      "execution_count": null,
      "id": "-p8d5DYeHN4w",
      "metadata": {
        "id": "-p8d5DYeHN4w"
      },
      "outputs": [],
      "source": [
        "dataFrame['ageGroup'] = pd.cut(\n",
        "    dataFrame[\"Age\"],\n",
        "    bins = [0, 12, 18, 35, 60, 100],\n",
        "    labels = [\"Child\", \"Teenager\", \"Young Adult\", \"Adult\", \"Elderly\"],\n",
        ")"
      ]
    },
    {
      "cell_type": "markdown",
      "id": "WrLLYSZ7HN4x",
      "metadata": {
        "id": "WrLLYSZ7HN4x"
      },
      "source": [
        "## 11. Fare: Criação de feature indicativa para grupos de tarifa"
      ]
    },
    {
      "cell_type": "code",
      "execution_count": null,
      "id": "eNSEBnXKHN4x",
      "metadata": {
        "id": "eNSEBnXKHN4x"
      },
      "outputs": [],
      "source": [
        "dataFrame['fareGroup'] = pd.cut(\n",
        "    dataFrame[\"Fare\"],\n",
        "    bins = [0, 7.9, 14.45, 31, 600],\n",
        "    labels = [\"Low\", \"Medium\", \"Medium-High\", \"High\"]\n",
        ")"
      ]
    },
    {
      "cell_type": "code",
      "source": [
        "dataFrame.to_csv('corrigido.csv')"
      ],
      "metadata": {
        "id": "E4d_oCpEurBp"
      },
      "id": "E4d_oCpEurBp",
      "execution_count": null,
      "outputs": []
    }
  ],
  "metadata": {
    "colab": {
      "provenance": [],
      "collapsed_sections": [
        "_p7x6JA3HN4q",
        "b-XD_l5FHN4t",
        "CiA_z_a6HN4t",
        "M0khhkzUHN4u",
        "nQFsx2NrHN4u",
        "BHJ5ne7tHN4u",
        "QCVXeLDIHN4v"
      ],
      "include_colab_link": true
    },
    "kernelspec": {
      "display_name": "Python 3",
      "language": "python",
      "name": "python3"
    },
    "language_info": {
      "name": "python",
      "version": "3.13.5"
    }
  },
  "nbformat": 4,
  "nbformat_minor": 5
}