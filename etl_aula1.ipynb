{
  "cells": [
    {
      "cell_type": "markdown",
      "metadata": {
        "id": "view-in-github",
        "colab_type": "text"
      },
      "source": [
        "<a href=\"https://colab.research.google.com/github/TainaDr/pipeline_titanic/blob/main/etl_aula1.ipynb\" target=\"_parent\"><img src=\"https://colab.research.google.com/assets/colab-badge.svg\" alt=\"Open In Colab\"/></a>"
      ]
    },
    {
      "cell_type": "markdown",
      "id": "_p7x6JA3HN4q",
      "metadata": {
        "id": "_p7x6JA3HN4q"
      },
      "source": [
        "## 1. Realize a extração dos dados do Titanic\n",
        "\n"
      ]
    },
    {
      "cell_type": "code",
      "execution_count": null,
      "id": "rKi8PDBoHN4s",
      "metadata": {
        "id": "rKi8PDBoHN4s"
      },
      "outputs": [],
      "source": [
        "import pandas as pd\n",
        "import numpy as np\n",
        "\n",
        "url = \"https://raw.githubusercontent.com/TainaDr/pipeline_titanic/main/titanic.csv\"\n",
        "dataFrame = pd.read_csv(url)\n",
        "print(dataFrame.head())"
      ]
    },
    {
      "cell_type": "markdown",
      "id": "b-XD_l5FHN4t",
      "metadata": {
        "id": "b-XD_l5FHN4t"
      },
      "source": [
        "## 2. Exibição das informações do conjunto de dados"
      ]
    },
    {
      "cell_type": "code",
      "execution_count": null,
      "id": "UW9UF6nDHN4t",
      "metadata": {
        "id": "UW9UF6nDHN4t",
        "colab": {
          "base_uri": "https://localhost:8080/"
        },
        "outputId": "654c2b1d-a7aa-4aef-f199-7fc6782af2c9"
      },
      "outputs": [
        {
          "output_type": "stream",
          "name": "stdout",
          "text": [
            "<class 'pandas.core.frame.DataFrame'>\n",
            "RangeIndex: 891 entries, 0 to 890\n",
            "Data columns (total 12 columns):\n",
            " #   Column       Non-Null Count  Dtype  \n",
            "---  ------       --------------  -----  \n",
            " 0   PassengerId  891 non-null    int64  \n",
            " 1   Survived     891 non-null    int64  \n",
            " 2   Pclass       891 non-null    int64  \n",
            " 3   Name         891 non-null    object \n",
            " 4   Sex          891 non-null    object \n",
            " 5   Age          714 non-null    float64\n",
            " 6   SibSp        891 non-null    int64  \n",
            " 7   Parch        891 non-null    int64  \n",
            " 8   Ticket       891 non-null    object \n",
            " 9   Fare         891 non-null    float64\n",
            " 10  Cabin        204 non-null    object \n",
            " 11  Embarked     889 non-null    object \n",
            "dtypes: float64(2), int64(5), object(5)\n",
            "memory usage: 83.7+ KB\n",
            "None\n"
          ]
        }
      ],
      "source": [
        "print(dataFrame.info())"
      ]
    },
    {
      "cell_type": "markdown",
      "id": "CiA_z_a6HN4t",
      "metadata": {
        "id": "CiA_z_a6HN4t"
      },
      "source": [
        "## 3. Veja quantos dados estão faltando (valores nulos)"
      ]
    },
    {
      "cell_type": "code",
      "execution_count": null,
      "id": "aGm7lHglHN4t",
      "metadata": {
        "id": "aGm7lHglHN4t",
        "colab": {
          "base_uri": "https://localhost:8080/"
        },
        "outputId": "2023e982-7398-4049-9699-1b4d3ef515f6"
      },
      "outputs": [
        {
          "output_type": "stream",
          "name": "stdout",
          "text": [
            "       PassengerId    Survived      Pclass         Age       SibSp  \\\n",
            "count   891.000000  891.000000  891.000000  714.000000  891.000000   \n",
            "mean    446.000000    0.383838    2.308642   29.699118    0.523008   \n",
            "std     257.353842    0.486592    0.836071   14.526497    1.102743   \n",
            "min       1.000000    0.000000    1.000000    0.420000    0.000000   \n",
            "25%     223.500000    0.000000    2.000000   20.125000    0.000000   \n",
            "50%     446.000000    0.000000    3.000000   28.000000    0.000000   \n",
            "75%     668.500000    1.000000    3.000000   38.000000    1.000000   \n",
            "max     891.000000    1.000000    3.000000   80.000000    8.000000   \n",
            "\n",
            "            Parch        Fare  \n",
            "count  891.000000  891.000000  \n",
            "mean     0.381594   32.204208  \n",
            "std      0.806057   49.693429  \n",
            "min      0.000000    0.000000  \n",
            "25%      0.000000    7.910400  \n",
            "50%      0.000000   14.454200  \n",
            "75%      0.000000   31.000000  \n",
            "max      6.000000  512.329200  \n"
          ]
        }
      ],
      "source": [
        "print(dataFrame.isnull().sum())"
      ]
    },
    {
      "cell_type": "markdown",
      "id": "M0khhkzUHN4u",
      "metadata": {
        "id": "M0khhkzUHN4u"
      },
      "source": [
        "## 4. Preencha os valores que estão faltando na coluna 'Age' com a média das idades"
      ]
    },
    {
      "cell_type": "code",
      "execution_count": null,
      "id": "jUMTjkt9HN4u",
      "metadata": {
        "id": "jUMTjkt9HN4u",
        "colab": {
          "base_uri": "https://localhost:8080/"
        },
        "outputId": "db1ff4f9-9088-40e1-a9bd-1efffe8d04a8"
      },
      "outputs": [
        {
          "output_type": "stream",
          "name": "stdout",
          "text": [
            "PassengerId      0\n",
            "Survived         0\n",
            "Pclass           0\n",
            "Name             0\n",
            "Sex              0\n",
            "Age              0\n",
            "SibSp            0\n",
            "Parch            0\n",
            "Ticket           0\n",
            "Fare             0\n",
            "Cabin          687\n",
            "Embarked         0\n",
            "dtype: int64\n"
          ]
        }
      ],
      "source": [
        "dataFrame['Age'] = dataFrame['Age'].fillna(dataFrame['Age'].mean())\n",
        "print(dataFrame['Age'])"
      ]
    },
    {
      "cell_type": "markdown",
      "id": "nQFsx2NrHN4u",
      "metadata": {
        "id": "nQFsx2NrHN4u"
      },
      "source": [
        "## 5. Remova a coluna 'Cabin', que tem muitos dados faltando"
      ]
    },
    {
      "cell_type": "code",
      "execution_count": null,
      "id": "9aZ8yR5vHN4u",
      "metadata": {
        "id": "9aZ8yR5vHN4u"
      },
      "outputs": [],
      "source": [
        "dataFrame.drop('Cabin', axis=1, inplace=True)"
      ]
    },
    {
      "cell_type": "markdown",
      "id": "bkHQns-pHN4v",
      "metadata": {
        "id": "bkHQns-pHN4v"
      },
      "source": [
        "## 7. Crie uma nova coluna chamada 'Eh_Menor' que indica se a pessoa tem menos de 18 anos"
      ]
    },
    {
      "cell_type": "code",
      "execution_count": null,
      "id": "vBg_3V5bHN4v",
      "metadata": {
        "id": "vBg_3V5bHN4v"
      },
      "outputs": [],
      "source": [
        "dataFrame['Eh_Menor'] = dataFrame['Age'] < 18"
      ]
    },
    {
      "cell_type": "markdown",
      "id": "QCVXeLDIHN4v",
      "metadata": {
        "id": "QCVXeLDIHN4v"
      },
      "source": [
        "## 8. Veja quantas pessoas são menores de idade"
      ]
    },
    {
      "cell_type": "code",
      "execution_count": null,
      "id": "mKobjtK3HN4v",
      "metadata": {
        "id": "mKobjtK3HN4v",
        "colab": {
          "base_uri": "https://localhost:8080/"
        },
        "outputId": "f4614bba-303b-4455-f6b2-5df0939b00fc"
      },
      "outputs": [
        {
          "output_type": "stream",
          "name": "stdout",
          "text": [
            "    Cabin  HasCabin\n",
            "0     NaN         0\n",
            "1     C85         1\n",
            "2     NaN         0\n",
            "3    C123         1\n",
            "4     NaN         0\n",
            "..    ...       ...\n",
            "886   NaN         0\n",
            "887   B42         1\n",
            "888   NaN         0\n",
            "889  C148         1\n",
            "890   NaN         0\n",
            "\n",
            "[891 rows x 2 columns]\n"
          ]
        }
      ],
      "source": [
        "quantidade_menores = dataFrame['Eh_Menor'].sum()\n",
        "print(f\"Total de pessoas menores de idade: {quantidade_menores}\")"
      ]
    },
    {
      "cell_type": "markdown",
      "id": "MCNX6u2aHN4w",
      "metadata": {
        "id": "MCNX6u2aHN4w"
      },
      "source": [
        "## 9. Salve o novo arquivo como CSV no seu computador"
      ]
    },
    {
      "cell_type": "code",
      "execution_count": null,
      "id": "Sd1YAOcPHN4w",
      "metadata": {
        "id": "Sd1YAOcPHN4w",
        "colab": {
          "base_uri": "https://localhost:8080/"
        },
        "outputId": "5603321b-d3e3-45c4-e643-fa15cdd8c767"
      },
      "outputs": [
        {
          "output_type": "stream",
          "name": "stdout",
          "text": [
            "Valores ausentes em Age: 0\n",
            "     Pclass   Age\n",
            "0         3  22.0\n",
            "1         1  38.0\n",
            "2         3  26.0\n",
            "3         1  35.0\n",
            "4         3  35.0\n",
            "..      ...   ...\n",
            "886       2  27.0\n",
            "887       1  19.0\n",
            "888       3  28.0\n",
            "889       1  26.0\n",
            "890       3  32.0\n",
            "\n",
            "[891 rows x 2 columns]\n"
          ]
        }
      ],
      "source": [
        "dataFrame.to_csv(\"titanic_tratado.csv\", index=False)"
      ]
    },
    {
      "cell_type": "markdown",
      "id": "2B4NP5M8HN4w",
      "metadata": {
        "id": "2B4NP5M8HN4w"
      },
      "source": [
        "## 10. Armazene os dados em um banco de dados SQLite"
      ]
    },
    {
      "cell_type": "code",
      "execution_count": null,
      "id": "-p8d5DYeHN4w",
      "metadata": {
        "id": "-p8d5DYeHN4w"
      },
      "outputs": [],
      "source": [
        "conexao = sqlite3.connect(\"titanic.db\")\n",
        "dataFrame.to_sql(\"passageiros\", conexao, if_exists=\"replace\", index=False)\n",
        "conexao.close()"
      ]
    },
    {
      "cell_type": "markdown",
      "id": "WrLLYSZ7HN4x",
      "metadata": {
        "id": "WrLLYSZ7HN4x"
      },
      "source": [
        "## 11. Acesse os dados do banco e veja apenas quem é menor de idade\n"
      ]
    },
    {
      "cell_type": "code",
      "execution_count": null,
      "id": "eNSEBnXKHN4x",
      "metadata": {
        "id": "eNSEBnXKHN4x"
      },
      "outputs": [],
      "source": [
        "conexao = sqlite3.connect(\"titanic.db\")\n",
        "tabela = \"SELECT * FROM passageiros WHERE Eh_Menor = 1\"\n",
        "menores_dataFrame = pd.read_sql_query(tabela, conexao)\n",
        "print(\"Passageiros menores de idade:\")\n",
        "print(menores_dataFrame)\n",
        "conexao.close()"
      ]
    },
    {
      "cell_type": "code",
      "source": [
        "dataFrame.to_csv('corrigido.csv')"
      ],
      "metadata": {
        "id": "E4d_oCpEurBp"
      },
      "id": "E4d_oCpEurBp",
      "execution_count": null,
      "outputs": []
    }
  ],
  "metadata": {
    "colab": {
      "provenance": [],
      "collapsed_sections": [
        "_p7x6JA3HN4q",
        "b-XD_l5FHN4t",
        "CiA_z_a6HN4t",
        "M0khhkzUHN4u",
        "nQFsx2NrHN4u",
        "BHJ5ne7tHN4u",
        "QCVXeLDIHN4v"
      ],
      "include_colab_link": true
    },
    "kernelspec": {
      "display_name": "Python 3",
      "language": "python",
      "name": "python3"
    },
    "language_info": {
      "name": "python",
      "version": "3.13.5"
    }
  },
  "nbformat": 4,
  "nbformat_minor": 5
}